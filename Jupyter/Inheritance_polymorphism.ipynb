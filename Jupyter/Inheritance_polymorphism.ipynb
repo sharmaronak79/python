{
 "cells": [
  {
   "cell_type": "code",
   "execution_count": 4,
   "metadata": {},
   "outputs": [
    {
     "name": "stdout",
     "output_type": "stream",
     "text": [
      "kutro \n",
      "i am eating\n",
      "i am a dog\n",
      "biladi\n"
     ]
    }
   ],
   "source": [
    "class Animal():\n",
    "    def __init__(self):\n",
    "        print('talk of animals')\n",
    "        \n",
    "    def eat(self):\n",
    "        print('i am eating')\n",
    "        \n",
    "    def sleep(self):\n",
    "        print('we need sleep')\n",
    "\n",
    "\n",
    "class Dog(Animal):      # inheritance of Animal class \n",
    "    def __init__(self):\n",
    "        print('kutro ')\n",
    "        \n",
    "    def name(self):\n",
    "        print('i am a dog')\n",
    "        \n",
    "    def sound(slef):\n",
    "        print('dog sound is woof')\n",
    "        \n",
    "\n",
    "# here some methods or functions names are same whic are called polymorphism, \n",
    "# but it depends how we  create instances of them        \n",
    "        \n",
    "        \n",
    "class Cat(Animal):    # inheritance of Animal class\n",
    "    def __init__(self):\n",
    "        print('biladi')\n",
    "        \n",
    "    def name(self):\n",
    "        print('i am a cat')\n",
    "        \n",
    "    def sound(slef):\n",
    "        print('cat sound is Meow...')\n",
    "        \n",
    "    \n",
    "d=Dog()\n",
    "d.eat()\n",
    "d.name()\n",
    "c=Cat()\n"
   ]
  },
  {
   "cell_type": "code",
   "execution_count": 6,
   "metadata": {},
   "outputs": [
    {
     "name": "stdout",
     "output_type": "stream",
     "text": [
      "cat sound is Meow...\n"
     ]
    }
   ],
   "source": [
    "c.sound()"
   ]
  },
  {
   "cell_type": "code",
   "execution_count": null,
   "metadata": {},
   "outputs": [],
   "source": []
  },
  {
   "cell_type": "code",
   "execution_count": null,
   "metadata": {},
   "outputs": [],
   "source": []
  },
  {
   "cell_type": "code",
   "execution_count": null,
   "metadata": {},
   "outputs": [],
   "source": []
  },
  {
   "cell_type": "code",
   "execution_count": null,
   "metadata": {},
   "outputs": [],
   "source": []
  }
 ],
 "metadata": {
  "kernelspec": {
   "display_name": "Python 3",
   "language": "python",
   "name": "python3"
  },
  "language_info": {
   "codemirror_mode": {
    "name": "ipython",
    "version": 3
   },
   "file_extension": ".py",
   "mimetype": "text/x-python",
   "name": "python",
   "nbconvert_exporter": "python",
   "pygments_lexer": "ipython3",
   "version": "3.8.3"
  }
 },
 "nbformat": 4,
 "nbformat_minor": 4
}
