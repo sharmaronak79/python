{
 "cells": [
  {
   "cell_type": "code",
   "execution_count": null,
   "metadata": {},
   "outputs": [],
   "source": [
    "# Arguments *args    // anything followed by * are called argumens\n",
    "# Keyword arguments **kwargs // anything followed by ** are called keyword arguments"
   ]
  },
  {
   "cell_type": "code",
   "execution_count": 1,
   "metadata": {},
   "outputs": [],
   "source": [
    "def addition(a,b):\n",
    "    return (a+b) * 0.05"
   ]
  },
  {
   "cell_type": "code",
   "execution_count": 4,
   "metadata": {},
   "outputs": [
    {
     "data": {
      "text/plain": [
       "1.5"
      ]
     },
     "execution_count": 4,
     "metadata": {},
     "output_type": "execute_result"
    }
   ],
   "source": [
    "addition(10,20)     # here if we pass more than two arguments it will throw an error, to solve that problem insted\n",
    "                    # passing two argments in function definitation we will pass *args (any name followed by * )"
   ]
  },
  {
   "cell_type": "code",
   "execution_count": 5,
   "metadata": {},
   "outputs": [
    {
     "ename": "TypeError",
     "evalue": "addition() takes 2 positional arguments but 3 were given",
     "output_type": "error",
     "traceback": [
      "\u001b[1;31m---------------------------------------------------------------------------\u001b[0m",
      "\u001b[1;31mTypeError\u001b[0m                                 Traceback (most recent call last)",
      "\u001b[1;32m<ipython-input-5-97a4fad10e0b>\u001b[0m in \u001b[0;36m<module>\u001b[1;34m\u001b[0m\n\u001b[1;32m----> 1\u001b[1;33m \u001b[0maddition\u001b[0m\u001b[1;33m(\u001b[0m\u001b[1;36m10\u001b[0m\u001b[1;33m,\u001b[0m\u001b[1;36m20\u001b[0m\u001b[1;33m,\u001b[0m\u001b[1;36m30\u001b[0m\u001b[1;33m)\u001b[0m     \u001b[1;31m# here if we pass more than two arguments it will throw an error, to solve that problem insted\u001b[0m\u001b[1;33m\u001b[0m\u001b[1;33m\u001b[0m\u001b[0m\n\u001b[0m\u001b[0;32m      2\u001b[0m                     \u001b[1;31m# passing two argments in function definitation we will pass *args (any name followed by * )\u001b[0m\u001b[1;33m\u001b[0m\u001b[1;33m\u001b[0m\u001b[1;33m\u001b[0m\u001b[0m\n",
      "\u001b[1;31mTypeError\u001b[0m: addition() takes 2 positional arguments but 3 were given"
     ]
    }
   ],
   "source": [
    "addition(10,20,30)     # here if we pass more than two arguments it will throw an error, to solve that problem insted\n",
    "                    # passing two argments in function definitation we will pass *args (any name followed by * )"
   ]
  },
  {
   "cell_type": "code",
   "execution_count": 8,
   "metadata": {},
   "outputs": [],
   "source": [
    "def add(*args):\n",
    "    print(args)\n",
    "    return sum(args) * 0.05     #sum() is inbuilt function in python"
   ]
  },
  {
   "cell_type": "code",
   "execution_count": 9,
   "metadata": {},
   "outputs": [
    {
     "name": "stdout",
     "output_type": "stream",
     "text": [
      "(10, 20, 30, 55)\n"
     ]
    },
    {
     "data": {
      "text/plain": [
       "5.75"
      ]
     },
     "execution_count": 9,
     "metadata": {},
     "output_type": "execute_result"
    }
   ],
   "source": [
    "add(10,20,30,55)"
   ]
  },
  {
   "cell_type": "code",
   "execution_count": 16,
   "metadata": {},
   "outputs": [],
   "source": [
    "def choice(**kwargs):                                             # name followed by ** are key word arguments , which are used\n",
    "    print(kwargs)                                                 # to pass many arguments in tuple forms and as dictionaries \n",
    "    if 'fruit' in kwargs:                                         # forms as well, we can use *args and **kwargs as function\n",
    "        print('my favourite fruit is {}'.format(kwargs['fruit'])) # parameters as well"
   ]
  },
  {
   "cell_type": "code",
   "execution_count": 17,
   "metadata": {},
   "outputs": [
    {
     "name": "stdout",
     "output_type": "stream",
     "text": [
      "{'fruit': 'apple', 'animal': 'horse', 'car': 'honda'}\n",
      "my favourite fruit is apple\n"
     ]
    }
   ],
   "source": [
    "choice(fruit='apple',animal='horse',car='honda')"
   ]
  },
  {
   "cell_type": "code",
   "execution_count": 27,
   "metadata": {},
   "outputs": [],
   "source": [
    "def item_choice(*args,**kwargs):                            # Here we have used arguments and keyword arguments as well\n",
    "    print('arguments are {}'.format(args))                  # \n",
    "    print('key word arguments are {}'.format(kwargs))\n",
    "    \n",
    "   # print('i like {} {} '.format(args[0],kwargs['fruit']))  \n",
    "    print(f'i like {args[0]} {kwargs[\"fruit\"]}')"
   ]
  },
  {
   "cell_type": "code",
   "execution_count": 28,
   "metadata": {},
   "outputs": [
    {
     "name": "stdout",
     "output_type": "stream",
     "text": [
      "arguments are (10, 2, 55, 30)\n",
      "key word arguments are {'fruit': 'apple', 'animal': 'horse', 'car': 'honda'}\n",
      "i like 10 apple\n"
     ]
    }
   ],
   "source": [
    "item_choice(10,2,55,30,fruit='apple',animal='horse',car='honda')"
   ]
  },
  {
   "cell_type": "code",
   "execution_count": null,
   "metadata": {},
   "outputs": [],
   "source": []
  }
 ],
 "metadata": {
  "kernelspec": {
   "display_name": "Python 3",
   "language": "python",
   "name": "python3"
  },
  "language_info": {
   "codemirror_mode": {
    "name": "ipython",
    "version": 3
   },
   "file_extension": ".py",
   "mimetype": "text/x-python",
   "name": "python",
   "nbconvert_exporter": "python",
   "pygments_lexer": "ipython3",
   "version": "3.8.3"
  }
 },
 "nbformat": 4,
 "nbformat_minor": 4
}
