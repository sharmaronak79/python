{
 "cells": [
  {
   "cell_type": "code",
   "execution_count": 1,
   "metadata": {},
   "outputs": [
    {
     "data": {
      "text/plain": [
       "'C:\\\\Users\\\\HP\\\\Desktop\\\\Udemy\\\\Advance_Python_Module'"
      ]
     },
     "execution_count": 1,
     "metadata": {},
     "output_type": "execute_result"
    }
   ],
   "source": [
    "pwd"
   ]
  },
  {
   "cell_type": "code",
   "execution_count": 2,
   "metadata": {},
   "outputs": [],
   "source": [
    "f=open('practice.txt','w+')\n",
    "f.write('This is a tes string')\n",
    "f.close()"
   ]
  },
  {
   "cell_type": "code",
   "execution_count": 3,
   "metadata": {},
   "outputs": [],
   "source": [
    "import os"
   ]
  },
  {
   "cell_type": "code",
   "execution_count": 4,
   "metadata": {},
   "outputs": [
    {
     "data": {
      "text/plain": [
       "'C:\\\\Users\\\\HP\\\\Desktop\\\\Udemy\\\\Advance_Python_Module'"
      ]
     },
     "execution_count": 4,
     "metadata": {},
     "output_type": "execute_result"
    }
   ],
   "source": [
    "os.getcwd()  #this work with any OS linux, windows or MAC OS "
   ]
  },
  {
   "cell_type": "code",
   "execution_count": 5,
   "metadata": {},
   "outputs": [
    {
     "data": {
      "text/plain": [
       "['.ipynb_checkpoints',\n",
       " 'collections_Counter.ipynb',\n",
       " 'Opening_Reading_File_Folder.ipynb',\n",
       " 'practice.txt']"
      ]
     },
     "execution_count": 5,
     "metadata": {},
     "output_type": "execute_result"
    }
   ],
   "source": [
    "os.listdir()"
   ]
  },
  {
   "cell_type": "code",
   "execution_count": 7,
   "metadata": {},
   "outputs": [
    {
     "data": {
      "text/plain": [
       "['.ipynb_checkpoints',\n",
       " 'Advance_Python_Module',\n",
       " 'arguments_keywordarguments.ipynb',\n",
       " 'cap.py',\n",
       " 'collection module',\n",
       " 'Decorator',\n",
       " 'Error_Except_HW.ipynb',\n",
       " 'Functions_lect44_udemy.ipynb',\n",
       " 'Func_pra_exe.ipynb',\n",
       " 'Func_pra_exe_level2.ipynb',\n",
       " 'Generator',\n",
       " 'HW_Method_functions.ipynb',\n",
       " 'interaction_of_function_gusedding_game.ipynb',\n",
       " 'IO_file.ipynb',\n",
       " 'lambda_map_filter.ipynb',\n",
       " 'lec46_tuple_unpacking_with_function.ipynb',\n",
       " 'lect30_obj_and_data_structure.ipynb',\n",
       " 'list_tupple_set.ipynb',\n",
       " 'Milestone1.ipynb',\n",
       " 'Milestone2',\n",
       " 'myfile.txt',\n",
       " 'OOP',\n",
       " 'PACKAGE',\n",
       " 'pylint.ipynb',\n",
       " 'pylint_image.JPG',\n",
       " 's5_statements.ipynb',\n",
       " 'simple.py',\n",
       " 'spy_game.ipynb',\n",
       " 'statement_Assesment_solution.ipynb',\n",
       " 'test.txt',\n",
       " 'test_cap.py',\n",
       " 'Try_Except.ipynb',\n",
       " 'unittest.JPG',\n",
       " 'unittest2.JPG',\n",
       " 'Untitled.ipynb',\n",
       " '__init__.py.txt',\n",
       " '__pycache__']"
      ]
     },
     "execution_count": 7,
     "metadata": {},
     "output_type": "execute_result"
    }
   ],
   "source": [
    "os.listdir('C:\\\\Users\\\\HP\\\\Desktop\\\\Udemy')"
   ]
  },
  {
   "cell_type": "code",
   "execution_count": 8,
   "metadata": {},
   "outputs": [],
   "source": [
    "import shutil"
   ]
  },
  {
   "cell_type": "code",
   "execution_count": 9,
   "metadata": {},
   "outputs": [
    {
     "data": {
      "text/plain": [
       "'C:\\\\Users\\\\HP\\\\Desktop\\\\Udemy\\\\practice.txt'"
      ]
     },
     "execution_count": 9,
     "metadata": {},
     "output_type": "execute_result"
    }
   ],
   "source": [
    "shutil.copy('practice.txt','')"
   ]
  },
  {
   "cell_type": "code",
   "execution_count": 11,
   "metadata": {},
   "outputs": [
    {
     "data": {
      "text/plain": [
       "['.ipynb_checkpoints',\n",
       " 'Advance_Python_Module',\n",
       " 'arguments_keywordarguments.ipynb',\n",
       " 'cap.py',\n",
       " 'collection module',\n",
       " 'Decorator',\n",
       " 'Error_Except_HW.ipynb',\n",
       " 'Functions_lect44_udemy.ipynb',\n",
       " 'Func_pra_exe.ipynb',\n",
       " 'Func_pra_exe_level2.ipynb',\n",
       " 'Generator',\n",
       " 'HW_Method_functions.ipynb',\n",
       " 'interaction_of_function_gusedding_game.ipynb',\n",
       " 'IO_file.ipynb',\n",
       " 'lambda_map_filter.ipynb',\n",
       " 'lec46_tuple_unpacking_with_function.ipynb',\n",
       " 'lect30_obj_and_data_structure.ipynb',\n",
       " 'list_tupple_set.ipynb',\n",
       " 'Milestone1.ipynb',\n",
       " 'Milestone2',\n",
       " 'myfile.txt',\n",
       " 'OOP',\n",
       " 'PACKAGE',\n",
       " 'practice.txt',\n",
       " 'pylint.ipynb',\n",
       " 'pylint_image.JPG',\n",
       " 's5_statements.ipynb',\n",
       " 'simple.py',\n",
       " 'spy_game.ipynb',\n",
       " 'statement_Assesment_solution.ipynb',\n",
       " 'test.txt',\n",
       " 'test_cap.py',\n",
       " 'Try_Except.ipynb',\n",
       " 'unittest.JPG',\n",
       " 'unittest2.JPG',\n",
       " 'Untitled.ipynb',\n",
       " '__init__.py.txt',\n",
       " '__pycache__']"
      ]
     },
     "execution_count": 11,
     "metadata": {},
     "output_type": "execute_result"
    }
   ],
   "source": [
    "os.listdir('C:\\\\Users\\\\HP\\\\Desktop\\\\Udemy')"
   ]
  },
  {
   "cell_type": "code",
   "execution_count": null,
   "metadata": {},
   "outputs": [],
   "source": []
  },
  {
   "cell_type": "code",
   "execution_count": null,
   "metadata": {},
   "outputs": [],
   "source": []
  },
  {
   "cell_type": "code",
   "execution_count": null,
   "metadata": {},
   "outputs": [],
   "source": []
  }
 ],
 "metadata": {
  "kernelspec": {
   "display_name": "Python 3",
   "language": "python",
   "name": "python3"
  },
  "language_info": {
   "codemirror_mode": {
    "name": "ipython",
    "version": 3
   },
   "file_extension": ".py",
   "mimetype": "text/x-python",
   "name": "python",
   "nbconvert_exporter": "python",
   "pygments_lexer": "ipython3",
   "version": "3.8.3"
  }
 },
 "nbformat": 4,
 "nbformat_minor": 4
}
