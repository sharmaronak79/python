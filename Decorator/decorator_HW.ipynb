{
 "cells": [
  {
   "cell_type": "code",
   "execution_count": null,
   "metadata": {},
   "outputs": [],
   "source": [
    "'''\n",
    "\n",
    "Check out the Web Framework Flask. \n",
    "You can use Flask to create web pages with Python (as long as you know some HTML and CSS) and they use decorators a lot!\n",
    "Learn how they use view decorators. Don't worry if you don't completely understand everything about Flask, \n",
    "the main point of this optional homework is that you have an awareness of decorators in Web Frameworks. \n",
    "That way if you decide to become a \"Full-Stack\" Python Web Developer, you won't find yourself perplexed by decorators.\n",
    "You can also check out Django another (and more popular) web framework for Python which is a bit more heavy duty.\n",
    "\n",
    "Also for some additional info:\n",
    "\n",
    "A framework is a type of software library that provides generic functionality which can be extended by the programmer\n",
    "to build applications. Flask and Django are good examples of frameworks intended for web development.\n",
    "\n",
    "A framework is distinguished from a simple library or API. \n",
    "An API is a piece of software that a developer can use in his or her application.\n",
    "A framework is more encompassing: your entire application is structured around the framework\n",
    "(i.e. it provides the framework around which you build your software).\n",
    "\n",
    "'''"
   ]
  }
 ],
 "metadata": {
  "kernelspec": {
   "display_name": "Python 3",
   "language": "python",
   "name": "python3"
  },
  "language_info": {
   "codemirror_mode": {
    "name": "ipython",
    "version": 3
   },
   "file_extension": ".py",
   "mimetype": "text/x-python",
   "name": "python",
   "nbconvert_exporter": "python",
   "pygments_lexer": "ipython3",
   "version": "3.8.3"
  }
 },
 "nbformat": 4,
 "nbformat_minor": 4
}
