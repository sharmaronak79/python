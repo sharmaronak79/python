{
 "cells": [
  {
   "cell_type": "code",
   "execution_count": 3,
   "metadata": {},
   "outputs": [],
   "source": [
    "g_list=['','0','']"
   ]
  },
  {
   "cell_type": "code",
   "execution_count": 4,
   "metadata": {},
   "outputs": [],
   "source": [
    "from random import shuffle"
   ]
  },
  {
   "cell_type": "code",
   "execution_count": 5,
   "metadata": {},
   "outputs": [],
   "source": [
    "def shuffle_list(g_list):\n",
    "    shuffle(g_list)\n",
    "    return g_list"
   ]
  },
  {
   "cell_type": "code",
   "execution_count": 6,
   "metadata": {},
   "outputs": [
    {
     "data": {
      "text/plain": [
       "['', '', '0']"
      ]
     },
     "execution_count": 6,
     "metadata": {},
     "output_type": "execute_result"
    }
   ],
   "source": [
    "shuffle_list(g_list)"
   ]
  },
  {
   "cell_type": "code",
   "execution_count": 7,
   "metadata": {},
   "outputs": [],
   "source": [
    "def user_choice():\n",
    "    choice=''\n",
    "    while choice not in ['0','1','2']:\n",
    "        choice= input(\"Enter your choice 0 , 1 or 2 : \")\n",
    "        \n",
    "    return int(choice)"
   ]
  },
  {
   "cell_type": "code",
   "execution_count": 8,
   "metadata": {},
   "outputs": [
    {
     "name": "stdout",
     "output_type": "stream",
     "text": [
      "Enter your choice 0 , 1 or 2 : 5\n",
      "Enter your choice 0 , 1 or 2 : 2\n"
     ]
    },
    {
     "data": {
      "text/plain": [
       "2"
      ]
     },
     "execution_count": 8,
     "metadata": {},
     "output_type": "execute_result"
    }
   ],
   "source": [
    "user_choice()"
   ]
  },
  {
   "cell_type": "code",
   "execution_count": 10,
   "metadata": {},
   "outputs": [],
   "source": [
    "def check_result(g_list,choice):\n",
    "    if g_list[choice]=='0':\n",
    "        print('you win')\n",
    "    else:\n",
    "        print('wrong choice')\n",
    "        print(g_list)\n",
    "    "
   ]
  },
  {
   "cell_type": "code",
   "execution_count": 11,
   "metadata": {},
   "outputs": [
    {
     "name": "stdout",
     "output_type": "stream",
     "text": [
      "Enter your choice 0 , 1 or 2 : 4\n",
      "Enter your choice 0 , 1 or 2 : 6\n",
      "Enter your choice 0 , 1 or 2 : 2\n",
      "wrong choice\n",
      "['', '0', '']\n"
     ]
    }
   ],
   "source": [
    "# Initial list\n",
    "g_list=['','0','']\n",
    "#shuffle list\n",
    "new_shfl_list=shuffle_list(g_list)\n",
    "#user guess\n",
    "index = user_choice()\n",
    "#check guess\n",
    "check_result(new_shfl_list,index)"
   ]
  },
  {
   "cell_type": "code",
   "execution_count": 12,
   "metadata": {},
   "outputs": [
    {
     "name": "stdout",
     "output_type": "stream",
     "text": [
      "Enter your choice 0 , 1 or 2 : 0\n",
      "wrong choice\n",
      "['', '', '0']\n"
     ]
    }
   ],
   "source": [
    "new_shfl_list=shuffle_list(g_list)\n",
    "#user guess\n",
    "index = user_choice()\n",
    "#check guess\n",
    "check_result(new_shfl_list,index)"
   ]
  }
 ],
 "metadata": {
  "kernelspec": {
   "display_name": "Python 3",
   "language": "python",
   "name": "python3"
  },
  "language_info": {
   "codemirror_mode": {
    "name": "ipython",
    "version": 3
   },
   "file_extension": ".py",
   "mimetype": "text/x-python",
   "name": "python",
   "nbconvert_exporter": "python",
   "pygments_lexer": "ipython3",
   "version": "3.8.3"
  }
 },
 "nbformat": 4,
 "nbformat_minor": 4
}
