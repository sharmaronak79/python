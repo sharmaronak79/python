{
 "cells": [
  {
   "cell_type": "code",
   "execution_count": 1,
   "metadata": {},
   "outputs": [],
   "source": [
    "import PyPDF2"
   ]
  },
  {
   "cell_type": "code",
   "execution_count": 2,
   "metadata": {},
   "outputs": [],
   "source": [
    "f=open('table4.pdf','rb')   # to open file"
   ]
  },
  {
   "cell_type": "code",
   "execution_count": 3,
   "metadata": {},
   "outputs": [
    {
     "data": {
      "text/plain": [
       "<_io.BufferedReader name='table4.pdf'>"
      ]
     },
     "execution_count": 3,
     "metadata": {},
     "output_type": "execute_result"
    }
   ],
   "source": [
    "f"
   ]
  },
  {
   "cell_type": "code",
   "execution_count": 4,
   "metadata": {},
   "outputs": [],
   "source": [
    "pdf_reader = PyPDF2.PdfFileReader(f) # make object to read"
   ]
  },
  {
   "cell_type": "code",
   "execution_count": 5,
   "metadata": {},
   "outputs": [
    {
     "data": {
      "text/plain": [
       "2"
      ]
     },
     "execution_count": 5,
     "metadata": {},
     "output_type": "execute_result"
    }
   ],
   "source": [
    "pdf_reader.numPages # to see number of pages"
   ]
  },
  {
   "cell_type": "code",
   "execution_count": 6,
   "metadata": {},
   "outputs": [],
   "source": [
    "page_one = pdf_reader.getPage(0) # make object for firsr page , 0 is the index of that page"
   ]
  },
  {
   "cell_type": "code",
   "execution_count": 7,
   "metadata": {},
   "outputs": [],
   "source": [
    "page_one_text = page_one.extractText() # extract method to read text from that pagwe and savce it to object"
   ]
  },
  {
   "cell_type": "code",
   "execution_count": 8,
   "metadata": {},
   "outputs": [
    {
     "data": {
      "text/plain": [
       "'Example of\\n Data \\nTable\\n 1 sample blue LED value green LED value red LED value clear water 97 19 79 blue water 73 11 13 green water 35 15 14 tea water 33 13 70     Example of\\n Data \\nTable\\n 2 sample blue % transmitted green % transmitted red % transmitted clear water 97/97 = 100% 19/19 = 100% 79/79 = 100% blue water 73/97 = 75% 11/19 = 58% 13/79 = 17% green water 35/97 = 36% 15/19 = 79% 14/79 = 18% tea water 33/97 = 34% 13/19 = 68% 70/79 = 91%   Example\\n of \\nMeasuring Ocean Color Graph\\n 1    '"
      ]
     },
     "execution_count": 8,
     "metadata": {},
     "output_type": "execute_result"
    }
   ],
   "source": [
    "page_one_text"
   ]
  },
  {
   "cell_type": "code",
   "execution_count": 9,
   "metadata": {},
   "outputs": [],
   "source": [
    "f.close()"
   ]
  },
  {
   "cell_type": "code",
   "execution_count": 10,
   "metadata": {},
   "outputs": [],
   "source": [
    "f=open('table4.pdf','rb')             # agaion open \n",
    "pdf_reader = PyPDF2.PdfFileReader(f)"
   ]
  },
  {
   "cell_type": "code",
   "execution_count": 11,
   "metadata": {},
   "outputs": [],
   "source": [
    "first_page = pdf_reader.getPage(0)"
   ]
  },
  {
   "cell_type": "code",
   "execution_count": 12,
   "metadata": {},
   "outputs": [],
   "source": [
    "pdf_writer = PyPDF2.PdfFileWriter()"
   ]
  },
  {
   "cell_type": "code",
   "execution_count": 13,
   "metadata": {},
   "outputs": [
    {
     "data": {
      "text/plain": [
       "PyPDF2.pdf.PageObject"
      ]
     },
     "execution_count": 13,
     "metadata": {},
     "output_type": "execute_result"
    }
   ],
   "source": [
    "type(first_page)"
   ]
  },
  {
   "cell_type": "code",
   "execution_count": 14,
   "metadata": {},
   "outputs": [],
   "source": [
    "pdf_writer.addPage(first_page)"
   ]
  },
  {
   "cell_type": "code",
   "execution_count": 15,
   "metadata": {},
   "outputs": [],
   "source": [
    "pdf_output = open('new.pdf','wb')"
   ]
  },
  {
   "cell_type": "code",
   "execution_count": 16,
   "metadata": {},
   "outputs": [],
   "source": [
    "pdf_writer.write(pdf_output)"
   ]
  },
  {
   "cell_type": "code",
   "execution_count": 17,
   "metadata": {},
   "outputs": [],
   "source": [
    "f.close()"
   ]
  },
  {
   "cell_type": "code",
   "execution_count": 18,
   "metadata": {},
   "outputs": [],
   "source": [
    "pdf_output.close()"
   ]
  },
  {
   "cell_type": "code",
   "execution_count": 19,
   "metadata": {},
   "outputs": [],
   "source": [
    "f = open('table4.pdf','rb')\n",
    "\n",
    "\n",
    "pdf_text = []\n",
    "\n",
    "pdf_reader = PyPDF2.PdfFileReader(f)\n",
    "\n",
    "for num in range(pdf_reader.numPages):\n",
    "    page = pdf_reader.getPage(num)\n",
    "    pdf_text.append(page.extractText())"
   ]
  },
  {
   "cell_type": "code",
   "execution_count": 20,
   "metadata": {},
   "outputs": [
    {
     "data": {
      "text/plain": [
       "'Example of\\n Data \\nTable\\n 1 sample blue LED value green LED value red LED value clear water 97 19 79 blue water 73 11 13 green water 35 15 14 tea water 33 13 70     Example of\\n Data \\nTable\\n 2 sample blue % transmitted green % transmitted red % transmitted clear water 97/97 = 100% 19/19 = 100% 79/79 = 100% blue water 73/97 = 75% 11/19 = 58% 13/79 = 17% green water 35/97 = 36% 15/19 = 79% 14/79 = 18% tea water 33/97 = 34% 13/19 = 68% 70/79 = 91%   Example\\n of \\nMeasuring Ocean Color Graph\\n 1    '"
      ]
     },
     "execution_count": 20,
     "metadata": {},
     "output_type": "execute_result"
    }
   ],
   "source": [
    "pdf_text[0]"
   ]
  },
  {
   "cell_type": "code",
   "execution_count": 21,
   "metadata": {},
   "outputs": [
    {
     "data": {
      "text/plain": [
       "'Example of\\n Data Table 3\\n sample blue LED value green LED value red LED value + 1 tsp milk 13 14 12 +1tsp milk + blue 10 9 6 +1tsp milk +green 9 13 7 +1tsp milk + tea 7 9 9     Example of\\n Data Table 4\\n Water sample blue % transmitted green % transmitted red % transmitted + 1 tsp milk 13/13 = 100% 14/14 = 100% 12/12 = 100% +1tsp milk + blue 10/13 = 77% 9/14 = 64% 6/12 = 50% +1tsp milk +green 9/13 = 69% 13/14 = 93% 7/12 = 58% +1tsp milk + tea 7/13 = 54% 9/14 = 69% 9/12 = 75%   Example of\\n Measuring Ocean Color Graph\\n 2   '"
      ]
     },
     "execution_count": 21,
     "metadata": {},
     "output_type": "execute_result"
    }
   ],
   "source": [
    "pdf_text[1]"
   ]
  },
  {
   "cell_type": "code",
   "execution_count": 22,
   "metadata": {},
   "outputs": [
    {
     "name": "stdout",
     "output_type": "stream",
     "text": [
      "Example of\n",
      " Data \n",
      "Table\n",
      " 1 sample blue LED value green LED value red LED value clear water 97 19 79 blue water 73 11 13 green water 35 15 14 tea water 33 13 70     Example of\n",
      " Data \n",
      "Table\n",
      " 2 sample blue % transmitted green % transmitted red % transmitted clear water 97/97 = 100% 19/19 = 100% 79/79 = 100% blue water 73/97 = 75% 11/19 = 58% 13/79 = 17% green water 35/97 = 36% 15/19 = 79% 14/79 = 18% tea water 33/97 = 34% 13/19 = 68% 70/79 = 91%   Example\n",
      " of \n",
      "Measuring Ocean Color Graph\n",
      " 1    \n"
     ]
    }
   ],
   "source": [
    "print(pdf_text[0])"
   ]
  },
  {
   "cell_type": "code",
   "execution_count": null,
   "metadata": {},
   "outputs": [],
   "source": []
  },
  {
   "cell_type": "code",
   "execution_count": null,
   "metadata": {},
   "outputs": [],
   "source": []
  }
 ],
 "metadata": {
  "kernelspec": {
   "display_name": "Python 3",
   "language": "python",
   "name": "python3"
  },
  "language_info": {
   "codemirror_mode": {
    "name": "ipython",
    "version": 3
   },
   "file_extension": ".py",
   "mimetype": "text/x-python",
   "name": "python",
   "nbconvert_exporter": "python",
   "pygments_lexer": "ipython3",
   "version": "3.8.3"
  }
 },
 "nbformat": 4,
 "nbformat_minor": 4
}
